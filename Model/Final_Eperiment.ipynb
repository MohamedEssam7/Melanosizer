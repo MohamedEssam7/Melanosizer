{
  "cells": [
    {
      "cell_type": "code",
      "execution_count": null,
      "id": "cd0197a8",
      "metadata": {
        "_cell_guid": "b1076dfc-b9ad-4769-8c92-a6c4dae69d19",
        "_uuid": "8f2839f25d086af736a60e9eeb907d3b93b6e0e5",
        "execution": {
          "iopub.execute_input": "2022-07-16T00:47:57.024522Z",
          "iopub.status.busy": "2022-07-16T00:47:57.023944Z",
          "iopub.status.idle": "2022-07-16T00:48:04.294272Z",
          "shell.execute_reply": "2022-07-16T00:48:04.293163Z"
        },
        "papermill": {
          "duration": 7.281634,
          "end_time": "2022-07-16T00:48:04.297231",
          "exception": false,
          "start_time": "2022-07-16T00:47:57.015597",
          "status": "completed"
        },
        "tags": [],
        "id": "cd0197a8"
      },
      "outputs": [],
      "source": [
        "import numpy as np\n",
        "import pandas as pd \n",
        "import tensorflow as tf\n",
        "import tensorflow_addons as tfa\n",
        "from keras.preprocessing.image import ImageDataGenerator, load_img\n",
        "from tensorflow.keras.layers import (Input, add, Dense, Activation, ZeroPadding2D,\n",
        "                                     BatchNormalization, Flatten, Conv2D, AveragePooling2D,\n",
        "                                     MaxPooling2D, GlobalMaxPooling2D,Dropout)\n",
        "from keras.models import Model\n",
        "from tensorflow.keras.utils import to_categorical\n",
        "from sklearn.model_selection import train_test_split\n",
        "import matplotlib.pyplot as plt\n",
        "import random\n",
        "import os"
      ]
    },
    {
      "cell_type": "code",
      "execution_count": null,
      "id": "07fed020",
      "metadata": {
        "execution": {
          "iopub.execute_input": "2022-07-16T00:48:04.312982Z",
          "iopub.status.busy": "2022-07-16T00:48:04.312406Z",
          "iopub.status.idle": "2022-07-16T00:48:04.318276Z",
          "shell.execute_reply": "2022-07-16T00:48:04.317124Z"
        },
        "papermill": {
          "duration": 0.015737,
          "end_time": "2022-07-16T00:48:04.320454",
          "exception": false,
          "start_time": "2022-07-16T00:48:04.304717",
          "status": "completed"
        },
        "tags": [],
        "id": "07fed020"
      },
      "outputs": [],
      "source": [
        "FAST_RUN = False\n",
        "IMAGE_WIDTH=224\n",
        "IMAGE_HEIGHT=224\n",
        "IMAGE_SIZE=(IMAGE_WIDTH, IMAGE_HEIGHT)\n",
        "IMAGE_CHANNELS=3\n",
        "INIT_LR = 1e-5\n",
        "MAX_LR = 1e-2"
      ]
    },
    {
      "cell_type": "code",
      "execution_count": null,
      "id": "c4bfa550",
      "metadata": {
        "execution": {
          "iopub.execute_input": "2022-07-16T00:48:04.335509Z",
          "iopub.status.busy": "2022-07-16T00:48:04.335191Z",
          "iopub.status.idle": "2022-07-16T00:48:08.447757Z",
          "shell.execute_reply": "2022-07-16T00:48:08.446655Z"
        },
        "papermill": {
          "duration": 4.122837,
          "end_time": "2022-07-16T00:48:08.450423",
          "exception": false,
          "start_time": "2022-07-16T00:48:04.327586",
          "status": "completed"
        },
        "tags": [],
        "id": "c4bfa550"
      },
      "outputs": [],
      "source": [
        "train_csv=pd.read_csv(\"../input/newmarking/marking_.csv\")\n",
        "filenames = []\n",
        "categories = []\n",
        "for row in train_csv.iterrows():\n",
        "    filenames.append(row[1][0]+\".jpg\")\n",
        "train = pd.DataFrame({\n",
        "    'image_name': filenames,\n",
        "    'target': train_csv['target']\n",
        "})"
      ]
    },
    {
      "cell_type": "code",
      "execution_count": null,
      "id": "e4995c7d",
      "metadata": {
        "execution": {
          "iopub.execute_input": "2022-07-16T00:48:08.466875Z",
          "iopub.status.busy": "2022-07-16T00:48:08.466563Z",
          "iopub.status.idle": "2022-07-16T00:48:08.506812Z",
          "shell.execute_reply": "2022-07-16T00:48:08.505894Z"
        },
        "papermill": {
          "duration": 0.051093,
          "end_time": "2022-07-16T00:48:08.509265",
          "exception": false,
          "start_time": "2022-07-16T00:48:08.458172",
          "status": "completed"
        },
        "tags": [],
        "id": "e4995c7d"
      },
      "outputs": [],
      "source": [
        "from sklearn.model_selection import train_test_split\n",
        "train_daf, test_df  = train_test_split(train,test_size=0.2,\n",
        "                                                    random_state=42,\n",
        "                                                    stratify=train[\"target\"])"
      ]
    },
    {
      "cell_type": "code",
      "execution_count": null,
      "id": "f6c36c19",
      "metadata": {
        "execution": {
          "iopub.execute_input": "2022-07-16T00:48:08.525949Z",
          "iopub.status.busy": "2022-07-16T00:48:08.525622Z",
          "iopub.status.idle": "2022-07-16T00:48:08.548489Z",
          "shell.execute_reply": "2022-07-16T00:48:08.547509Z"
        },
        "papermill": {
          "duration": 0.034239,
          "end_time": "2022-07-16T00:48:08.550632",
          "exception": false,
          "start_time": "2022-07-16T00:48:08.516393",
          "status": "completed"
        },
        "tags": [],
        "id": "f6c36c19"
      },
      "outputs": [],
      "source": [
        "from sklearn.model_selection import train_test_split\n",
        "train_df, validate_df  = train_test_split(train_daf,test_size=0.2,\n",
        "                                                    random_state=42,\n",
        "                                                    stratify=train_daf[\"target\"])"
      ]
    },
    {
      "cell_type": "code",
      "execution_count": null,
      "id": "15014050",
      "metadata": {
        "execution": {
          "iopub.execute_input": "2022-07-16T00:48:08.565860Z",
          "iopub.status.busy": "2022-07-16T00:48:08.565560Z",
          "iopub.status.idle": "2022-07-16T00:48:08.820982Z",
          "shell.execute_reply": "2022-07-16T00:48:08.819934Z"
        },
        "papermill": {
          "duration": 0.265634,
          "end_time": "2022-07-16T00:48:08.823239",
          "exception": false,
          "start_time": "2022-07-16T00:48:08.557605",
          "status": "completed"
        },
        "tags": [],
        "id": "15014050",
        "outputId": "c235a1fb-d428-4ca8-c974-a12e009c1e89"
      },
      "outputs": [
        {
          "data": {
            "text/plain": [
              "<AxesSubplot:title={'center':'benign and maignent counter'}, xlabel='0:benign or 1:malignent'>"
            ]
          },
          "execution_count": 6,
          "metadata": {},
          "output_type": "execute_result"
        },
        {
          "data": {
            "image/png": "[encoded data removed]",
            "text/plain": [
              "<Figure size 432x288 with 1 Axes>"
            ]
          },
          "metadata": {
            "needs_background": "light"
          },
          "output_type": "display_data"
        }
      ],
      "source": [
        "train_daf['target'].value_counts().plot(title=\"benign and maignent counter\",xlabel = \"0:benign or 1:malignent\", kind = \"bar\")"
      ]
    },
    {
      "cell_type": "code",
      "execution_count": null,
      "id": "3553609c",
      "metadata": {
        "execution": {
          "iopub.execute_input": "2022-07-16T00:48:08.839941Z",
          "iopub.status.busy": "2022-07-16T00:48:08.839192Z",
          "iopub.status.idle": "2022-07-16T00:48:08.848248Z",
          "shell.execute_reply": "2022-07-16T00:48:08.847124Z"
        },
        "papermill": {
          "duration": 0.020769,
          "end_time": "2022-07-16T00:48:08.851635",
          "exception": false,
          "start_time": "2022-07-16T00:48:08.830866",
          "status": "completed"
        },
        "tags": [],
        "id": "3553609c",
        "outputId": "4ffc06ef-b3f3-4e1b-a775-8400b610eb92"
      },
      "outputs": [
        {
          "name": "stdout",
          "output_type": "stream",
          "text": [
            "Examples:\n",
            "    Total: 45779\n",
            "    Positive: 3938 (8.60% of total)\n",
            "\n",
            "Weight for class 0: 0.55\n",
            "Weight for class 1: 5.81\n"
          ]
        }
      ],
      "source": [
        "total_img = train_daf[\"target\"].size\n",
        "\n",
        "malignant = np.count_nonzero(train_daf[\"target\"])\n",
        "benign = total_img - malignant\n",
        "print('Examples:\\n    Total: {}\\n    Positive: {} ({:.2f}% of total)\\n'.format(\n",
        "    total_img, malignant, 100 * malignant / total_img))\n",
        "\n",
        "weight_for_0 = (1 / benign)*(total_img)/2.0 \n",
        "weight_for_1 = (1 / malignant)*(total_img)/2.0\n",
        "\n",
        "class_weight = {0: weight_for_0, 1: weight_for_1}\n",
        "\n",
        "print('Weight for class 0: {:.2f}'.format(weight_for_0))\n",
        "print('Weight for class 1: {:.2f}'.format(weight_for_1))"
      ]
    },
    {
      "cell_type": "code",
      "execution_count": null,
      "id": "8de64ee3",
      "metadata": {
        "execution": {
          "iopub.execute_input": "2022-07-16T00:48:08.869680Z",
          "iopub.status.busy": "2022-07-16T00:48:08.869363Z",
          "iopub.status.idle": "2022-07-16T00:48:08.874569Z",
          "shell.execute_reply": "2022-07-16T00:48:08.873314Z"
        },
        "papermill": {
          "duration": 0.015661,
          "end_time": "2022-07-16T00:48:08.876905",
          "exception": false,
          "start_time": "2022-07-16T00:48:08.861244",
          "status": "completed"
        },
        "tags": [],
        "id": "8de64ee3"
      },
      "outputs": [],
      "source": [
        "total_train = train_df.shape[0]\n",
        "total_validate = validate_df.shape[0]\n",
        "batch_size=32"
      ]
    },
    {
      "cell_type": "code",
      "execution_count": null,
      "id": "922e8e36",
      "metadata": {
        "execution": {
          "iopub.execute_input": "2022-07-16T00:48:08.892566Z",
          "iopub.status.busy": "2022-07-16T00:48:08.892271Z",
          "iopub.status.idle": "2022-07-16T00:50:02.754076Z",
          "shell.execute_reply": "2022-07-16T00:50:02.752888Z"
        },
        "papermill": {
          "duration": 113.884867,
          "end_time": "2022-07-16T00:50:02.769045",
          "exception": false,
          "start_time": "2022-07-16T00:48:08.884178",
          "status": "completed"
        },
        "tags": [],
        "id": "922e8e36",
        "outputId": "97df253b-e1f0-4d7b-c097-c03deedce99c"
      },
      "outputs": [
        {
          "name": "stdout",
          "output_type": "stream",
          "text": [
            "Found 36623 validated image filenames.\n"
          ]
        }
      ],
      "source": [
        "train_datagen = ImageDataGenerator(featurewise_center=True,featurewise_std_normalization=True,\n",
        "                                   zoom_range=0.3,vertical_flip=True, horizontal_flip=True,\n",
        "                                   width_shift_range=0.2, height_shift_range=0.2,fill_mode='nearest')\n",
        "\n",
        "mean = [143.33956166346746, 148.21742939479066, 190.40706684440573]\n",
        "train_datagen.mean = mean\n",
        "std = 55.30462222768374 \n",
        "train_datagen.std = std\n",
        "\n",
        "train_generator = train_datagen.flow_from_dataframe(\n",
        "    train_df, \n",
        "    \"../input/melanoma-merged-external-data-512x512-jpeg/512x512-dataset-melanoma/512x512-dataset-melanoma\", \n",
        "    x_col='image_name',\n",
        "    y_col='target',\n",
        "    target_size=IMAGE_SIZE,\n",
        "    class_mode='raw',\n",
        "    batch_size=batch_size\n",
        ")"
      ]
    },
    {
      "cell_type": "code",
      "execution_count": null,
      "id": "45ee0c79",
      "metadata": {
        "execution": {
          "iopub.execute_input": "2022-07-16T00:50:02.798338Z",
          "iopub.status.busy": "2022-07-16T00:50:02.795795Z",
          "iopub.status.idle": "2022-07-16T00:50:31.177682Z",
          "shell.execute_reply": "2022-07-16T00:50:31.176620Z"
        },
        "papermill": {
          "duration": 28.398486,
          "end_time": "2022-07-16T00:50:31.180205",
          "exception": false,
          "start_time": "2022-07-16T00:50:02.781719",
          "status": "completed"
        },
        "tags": [],
        "id": "45ee0c79",
        "outputId": "bb63d9ea-2f57-4815-9592-b10c286e3192"
      },
      "outputs": [
        {
          "name": "stdout",
          "output_type": "stream",
          "text": [
            "Found 9156 validated image filenames.\n"
          ]
        }
      ],
      "source": [
        "val_datagen = ImageDataGenerator(featurewise_center=True,featurewise_std_normalization=True)\n",
        "val_datagen.mean = mean\n",
        "val_datagen.std = std\n",
        "validation_generator = val_datagen.flow_from_dataframe(\n",
        "    validate_df, \n",
        "    \"../input/melanoma-merged-external-data-512x512-jpeg/512x512-dataset-melanoma/512x512-dataset-melanoma\", \n",
        "    x_col='image_name',\n",
        "    y_col='target',\n",
        "    target_size=IMAGE_SIZE,\n",
        "    class_mode='raw',\n",
        "    batch_size=batch_size\n",
        ")"
      ]
    },
    {
      "cell_type": "code",
      "execution_count": null,
      "id": "03b0d71c",
      "metadata": {
        "execution": {
          "iopub.execute_input": "2022-07-16T00:50:31.197997Z",
          "iopub.status.busy": "2022-07-16T00:50:31.197110Z",
          "iopub.status.idle": "2022-07-16T00:50:31.213093Z",
          "shell.execute_reply": "2022-07-16T00:50:31.212026Z"
        },
        "papermill": {
          "duration": 0.026927,
          "end_time": "2022-07-16T00:50:31.215298",
          "exception": false,
          "start_time": "2022-07-16T00:50:31.188371",
          "status": "completed"
        },
        "tags": [],
        "id": "03b0d71c"
      },
      "outputs": [],
      "source": [
        "def identity_block(X, f, filters, training=True,name='block',is_reg=False):\n",
        "        \n",
        "    F1, F2, F3 = filters\n",
        "    X_shortcut = X\n",
        "    name = 'id_'+name\n",
        "    regulizer='l1' if is_reg else None\n",
        "    regulizer=None\n",
        "    X = Conv2D(filters = F1, kernel_size = 1, strides = (1,1), padding = 'valid',\n",
        "               name=name+'_conv1',kernel_regularizer=regulizer)(X)\n",
        "    X = BatchNormalization(axis = 3,name=name+'_bn1')(X, training = training) # Default axis\n",
        "    X = Activation('relu',name=name+'_rlu1')(X)\n",
        "    if is_reg:\n",
        "        X = Dropout(0.5)(X)\n",
        "    X = Conv2D(filters = F2, kernel_size = f, strides = (1,1), padding = 'same',\n",
        "               name=name+'_conv2',kernel_regularizer=regulizer)(X)\n",
        "    X = BatchNormalization(axis = 3,name=name+'_bn2')(X, training = training)\n",
        "    X = Activation('relu',name=name+'_rlu2')(X) \n",
        "\n",
        "    X = Conv2D(filters = F3, kernel_size = 1, strides = (1,1), padding = 'valid',\n",
        "               name=name+'_conv3',kernel_regularizer=regulizer)(X)\n",
        "    X = BatchNormalization(axis = 3,name=name+'_bn3')(X, training = training) \n",
        "    \n",
        "    X = add([X_shortcut,X],name=name+'_add'+'_sc')\n",
        "    X = Activation('relu',name=name+'_rlu3')(X)\n",
        "    if is_reg:\n",
        "        X = Dropout(0.5)(X)\n",
        "\n",
        "    return X"
      ]
    },
    {
      "cell_type": "code",
      "execution_count": null,
      "id": "0a785ede",
      "metadata": {
        "execution": {
          "iopub.execute_input": "2022-07-16T00:50:31.231386Z",
          "iopub.status.busy": "2022-07-16T00:50:31.231013Z",
          "iopub.status.idle": "2022-07-16T00:50:31.244783Z",
          "shell.execute_reply": "2022-07-16T00:50:31.243758Z"
        },
        "papermill": {
          "duration": 0.024372,
          "end_time": "2022-07-16T00:50:31.247026",
          "exception": false,
          "start_time": "2022-07-16T00:50:31.222654",
          "status": "completed"
        },
        "tags": [],
        "id": "0a785ede"
      },
      "outputs": [],
      "source": [
        "def convolutional_block(X, f, filters, s = 2, training=True,name='block',is_reg=False):\n",
        "    \n",
        "    F1, F2, F3 = filters\n",
        "    X_shortcut = X\n",
        "    name = 'con_'+name\n",
        "    regulizer='l1' if is_reg else None\n",
        "    regulizer=None\n",
        "    X = Conv2D(filters = F1, kernel_size = 1, strides = (s, s), padding='valid',\n",
        "               name=name+'_conv1',kernel_regularizer=regulizer)(X)\n",
        "    X = BatchNormalization(axis = 3,name=name+'_bn1')(X, training=training)\n",
        "    X = Activation('relu',name=name+'_rlu1')(X)\n",
        "    if is_reg:\n",
        "        X = Dropout(0.5)(X)\n",
        "    X = Conv2D(filters = F2, kernel_size = f, strides = (1, 1), padding='same',\n",
        "               name=name+'_conv2',kernel_regularizer=regulizer)(X)\n",
        "    X = BatchNormalization(axis = 3,name=name+'_bn2')(X, training=training)\n",
        "    X = Activation('relu',name=name+'_rlu2')(X)\n",
        "\n",
        "    X = Conv2D(filters = F3, kernel_size = 1, strides = (1, 1), padding='valid',\n",
        "               name=name+'_conv3',kernel_regularizer=regulizer)(X)\n",
        "    X = BatchNormalization(axis = 3,name=name+'_bn3')(X, training=training) \n",
        "\n",
        "    X_shortcut = Conv2D(filters = F3, kernel_size = 1, strides = (s, s), padding='valid',\n",
        "                        name=name+'_conv'+'_sc',kernel_regularizer=regulizer)(X_shortcut)\n",
        "    X_shortcut = BatchNormalization(axis = 3,name=name+'_bn'+'_sc')(X_shortcut, training=training)\n",
        "\n",
        "    X = add([X_shortcut,X],name=name+'_add'+'_sc')\n",
        "    X = Activation('relu',name=name+'_rlu3')(X)\n",
        "    if is_reg:\n",
        "        X = Dropout(0.5)(X)\n",
        "    \n",
        "    return X"
      ]
    },
    {
      "cell_type": "code",
      "execution_count": null,
      "id": "1f69f465",
      "metadata": {
        "execution": {
          "iopub.execute_input": "2022-07-16T00:50:31.263430Z",
          "iopub.status.busy": "2022-07-16T00:50:31.262647Z",
          "iopub.status.idle": "2022-07-16T00:50:31.286427Z",
          "shell.execute_reply": "2022-07-16T00:50:31.285555Z"
        },
        "papermill": {
          "duration": 0.034609,
          "end_time": "2022-07-16T00:50:31.288933",
          "exception": false,
          "start_time": "2022-07-16T00:50:31.254324",
          "status": "completed"
        },
        "tags": [],
        "id": "1f69f465"
      },
      "outputs": [],
      "source": [
        "def ResNet101(input_shape = (224, 224, 3), classes = 1):\n",
        "\n",
        "    X_input = Input(input_shape)\n",
        "    X = ZeroPadding2D((3, 3))(X_input)\n",
        "\n",
        "    X = Conv2D(64, (7, 7), strides = (2, 2))(X)\n",
        "    X = BatchNormalization(axis = 3)(X)\n",
        "    X = Activation('relu')(X)\n",
        "    X = MaxPooling2D((3, 3), strides=(2, 2))(X)\n",
        "\n",
        "    X = convolutional_block(X, f = 3, filters = [64, 64, 256], s = 1,name='block1')\n",
        "    X = identity_block(X, 3, [64, 64, 256],name='block1_1')\n",
        "    X = identity_block(X, 3, [64, 64, 256],name='block1_2')\n",
        "\n",
        "    X = convolutional_block(X, f = 3, filters = [128,128,512], s = 2,name='block2') \n",
        "    X = identity_block(X, 3, [128,128,512],name='block2_1') \n",
        "    X = identity_block(X, 3, [128,128,512],name='block2_2')\n",
        "    X = identity_block(X, 3, [128,128,512],name='block2_3') \n",
        "\n",
        "    X = convolutional_block(X, f = 3, filters = [256, 256, 1024], s = 2,name='block3') \n",
        "    X = identity_block(X, 3, [256, 256, 1024],name='block3_1') \n",
        "    X = identity_block(X, 3, [256, 256, 1024],name='block3_2')\n",
        "    X = identity_block(X, 3, [256, 256, 1024],name='block3_3') \n",
        "    X = identity_block(X, 3, [256, 256, 1024],name='block3_4') \n",
        "    X = identity_block(X, 3, [256, 256, 1024],name='block3_5')\n",
        "    X = identity_block(X, 3, [256, 256, 1024],name='block3_6') \n",
        "    X = identity_block(X, 3, [256, 256, 1024],name='block3_7')\n",
        "    X = identity_block(X, 3, [256, 256, 1024],name='block3_8') \n",
        "    X = identity_block(X, 3, [256, 256, 1024],name='block3_9') \n",
        "    X = identity_block(X, 3, [256, 256, 1024],name='block3_10')\n",
        "    X = identity_block(X, 3, [256, 256, 1024],name='block3_11') \n",
        "    X = identity_block(X, 3, [256, 256, 1024],name='block3_12')\n",
        "    X = identity_block(X, 3, [256, 256, 1024],name='block3_13') \n",
        "    X = identity_block(X, 3, [256, 256, 1024],name='block3_14') \n",
        "    X = identity_block(X, 3, [256, 256, 1024],name='block3_15')\n",
        "    X = identity_block(X, 3, [256, 256, 1024],name='block3_16') \n",
        "    X = identity_block(X, 3, [256, 256, 1024],name='block3_17')\n",
        "    X = identity_block(X, 3, [256, 256, 1024],name='block3_18') \n",
        "    X = identity_block(X, 3, [256, 256, 1024],name='block3_19') \n",
        "    X = identity_block(X, 3, [256, 256, 1024],name='block3_20')\n",
        "    X = identity_block(X, 3, [256, 256, 1024],name='block3_21') \n",
        "    X = identity_block(X, 3, [256, 256, 1024],name='block3_22')\n",
        "\n",
        "    X = convolutional_block(X, f = 3, filters = [512, 512, 2048], s = 2,name='block4') \n",
        "    X = identity_block(X, 3, [512, 512, 2048],name='block4_1') \n",
        "    X = identity_block(X, 3, [512, 512, 2048],name='block4_2') \n",
        "\n",
        "    X = AveragePooling2D((2, 2))(X) \n",
        "    model = Model(inputs = X_input, outputs = X)\n",
        "\n",
        "    return model\n"
      ]
    },
    {
      "cell_type": "code",
      "execution_count": null,
      "id": "cf0ef4b3",
      "metadata": {
        "execution": {
          "iopub.execute_input": "2022-07-16T00:50:31.304734Z",
          "iopub.status.busy": "2022-07-16T00:50:31.304390Z",
          "iopub.status.idle": "2022-07-16T00:50:41.767720Z",
          "shell.execute_reply": "2022-07-16T00:50:41.766487Z"
        },
        "papermill": {
          "duration": 10.474441,
          "end_time": "2022-07-16T00:50:41.770461",
          "exception": false,
          "start_time": "2022-07-16T00:50:31.296020",
          "status": "completed"
        },
        "tags": [],
        "id": "cf0ef4b3",
        "outputId": "f4a68888-2c39-4a59-c814-c10383995bee"
      },
      "outputs": [
        {
          "name": "stderr",
          "output_type": "stream",
          "text": [
            "/opt/conda/lib/python3.7/site-packages/keras/optimizer_v2/optimizer_v2.py:356: UserWarning: The `lr` argument is deprecated, use `learning_rate` instead.\n",
            "  \"The `lr` argument is deprecated, use `learning_rate` instead.\")\n",
            "2022-07-16 00:50:31.435320: I tensorflow/stream_executor/cuda/cuda_gpu_executor.cc:937] successful NUMA node read from SysFS had negative value (-1), but there must be at least one NUMA node, so returning NUMA node zero\n",
            "2022-07-16 00:50:31.586501: I tensorflow/stream_executor/cuda/cuda_gpu_executor.cc:937] successful NUMA node read from SysFS had negative value (-1), but there must be at least one NUMA node, so returning NUMA node zero\n",
            "2022-07-16 00:50:31.587599: I tensorflow/stream_executor/cuda/cuda_gpu_executor.cc:937] successful NUMA node read from SysFS had negative value (-1), but there must be at least one NUMA node, so returning NUMA node zero\n",
            "2022-07-16 00:50:31.589682: I tensorflow/core/platform/cpu_feature_guard.cc:142] This TensorFlow binary is optimized with oneAPI Deep Neural Network Library (oneDNN) to use the following CPU instructions in performance-critical operations:  AVX2 FMA\n",
            "To enable them in other operations, rebuild TensorFlow with the appropriate compiler flags.\n",
            "2022-07-16 00:50:31.590157: I tensorflow/stream_executor/cuda/cuda_gpu_executor.cc:937] successful NUMA node read from SysFS had negative value (-1), but there must be at least one NUMA node, so returning NUMA node zero\n",
            "2022-07-16 00:50:31.591150: I tensorflow/stream_executor/cuda/cuda_gpu_executor.cc:937] successful NUMA node read from SysFS had negative value (-1), but there must be at least one NUMA node, so returning NUMA node zero\n",
            "2022-07-16 00:50:31.592144: I tensorflow/stream_executor/cuda/cuda_gpu_executor.cc:937] successful NUMA node read from SysFS had negative value (-1), but there must be at least one NUMA node, so returning NUMA node zero\n",
            "2022-07-16 00:50:34.246762: I tensorflow/stream_executor/cuda/cuda_gpu_executor.cc:937] successful NUMA node read from SysFS had negative value (-1), but there must be at least one NUMA node, so returning NUMA node zero\n",
            "2022-07-16 00:50:34.247910: I tensorflow/stream_executor/cuda/cuda_gpu_executor.cc:937] successful NUMA node read from SysFS had negative value (-1), but there must be at least one NUMA node, so returning NUMA node zero\n",
            "2022-07-16 00:50:34.248978: I tensorflow/stream_executor/cuda/cuda_gpu_executor.cc:937] successful NUMA node read from SysFS had negative value (-1), but there must be at least one NUMA node, so returning NUMA node zero\n",
            "2022-07-16 00:50:34.249712: I tensorflow/core/common_runtime/gpu/gpu_device.cc:1510] Created device /job:localhost/replica:0/task:0/device:GPU:0 with 15403 MB memory:  -> device: 0, name: Tesla P100-PCIE-16GB, pci bus id: 0000:00:04.0, compute capability: 6.0\n"
          ]
        }
      ],
      "source": [
        "opt = tf.keras.optimizers.Adam(lr=0.0000031623)#1e-5.5\n",
        "input_shape = (IMAGE_WIDTH,IMAGE_HEIGHT,IMAGE_CHANNELS)\n",
        "\n",
        "RN101_model = ResNet101(input_shape)\n",
        "RN101_model.load_weights('../input/tf-keras-pretrained-model-weights/No Top/resnet101_weights_tf_dim_ordering_tf_kernels_notop.h5')\n",
        "\n",
        "X = Conv2D(filters = 1024, kernel_size = 1, padding='valid')(RN101_model.output)\n",
        "X = Conv2D(filters = 512, kernel_size = 1, padding='valid')(X)\n",
        "X = Conv2D(filters = 256, kernel_size = 1, padding='valid')(X)\n",
        "X = Flatten()(X)\n",
        "output = Dense(1,activation='sigmoid')(X)\n",
        "model = Model(inputs=RN101_model.input, outputs=output)\n",
        "\n",
        "model.compile(loss=\"binary_crossentropy\", metrics=[tf.keras.metrics.AUC(),tf.keras.metrics.FalseNegatives(),\n",
        "                                                  tf.keras.metrics.FalsePositives(),tf.keras.metrics.TrueNegatives(),\n",
        "                                                  tf.keras.metrics.TruePositives()],\n",
        "              optimizer=opt)"
      ]
    },
    {
      "cell_type": "code",
      "execution_count": null,
      "id": "14100faf",
      "metadata": {
        "execution": {
          "iopub.execute_input": "2022-07-16T00:50:41.802499Z",
          "iopub.status.busy": "2022-07-16T00:50:41.801713Z",
          "iopub.status.idle": "2022-07-16T00:50:41.812148Z",
          "shell.execute_reply": "2022-07-16T00:50:41.810290Z"
        },
        "papermill": {
          "duration": 0.030353,
          "end_time": "2022-07-16T00:50:41.815764",
          "exception": false,
          "start_time": "2022-07-16T00:50:41.785411",
          "status": "completed"
        },
        "tags": [],
        "id": "14100faf"
      },
      "outputs": [],
      "source": [
        "checkpoint_filepath = './weights_D9v14.h5'\n",
        "model_checkpoint_callback = tf.keras.callbacks.ModelCheckpoint(\n",
        "    filepath=checkpoint_filepath,\n",
        "    save_weights_only=True,\n",
        "    monitor='val_auc',\n",
        "    mode='max')\n",
        "checkpoint_filepath = './model_D9v14.h5'\n",
        "model_checkpoint_callback_1 = tf.keras.callbacks.ModelCheckpoint(\n",
        "    filepath=checkpoint_filepath,\n",
        "    save_weights_only=False,\n",
        "    monitor='val_auc',\n",
        "    mode='max')\n",
        "callbacks = [model_checkpoint_callback,model_checkpoint_callback_1]"
      ]
    },
    {
      "cell_type": "code",
      "execution_count": null,
      "id": "4134d813",
      "metadata": {
        "execution": {
          "iopub.execute_input": "2022-07-16T00:50:41.847477Z",
          "iopub.status.busy": "2022-07-16T00:50:41.846954Z",
          "iopub.status.idle": "2022-07-16T07:58:56.847725Z",
          "shell.execute_reply": "2022-07-16T07:58:56.844850Z"
        },
        "papermill": {
          "duration": 25695.021683,
          "end_time": "2022-07-16T07:58:56.852232",
          "exception": false,
          "start_time": "2022-07-16T00:50:41.830549",
          "status": "completed"
        },
        "tags": [],
        "id": "4134d813",
        "outputId": "c02e1002-9297-40c9-ee31-2b233adb783f"
      },
      "outputs": [
        {
          "name": "stderr",
          "output_type": "stream",
          "text": [
            "2022-07-16 00:50:42.867171: I tensorflow/compiler/mlir/mlir_graph_optimization_pass.cc:185] None of the MLIR Optimization Passes are enabled (registered 2)\n"
          ]
        },
        {
          "name": "stdout",
          "output_type": "stream",
          "text": [
            "Epoch 1/29\n"
          ]
        },
        {
          "name": "stderr",
          "output_type": "stream",
          "text": [
            "2022-07-16 00:50:57.976526: I tensorflow/stream_executor/cuda/cuda_dnn.cc:369] Loaded cuDNN version 8005\n"
          ]
        },
        {
          "name": "stdout",
          "output_type": "stream",
          "text": [
            "1144/1144 [==============================] - 1161s 996ms/step - loss: 0.6206 - auc: 0.8101 - false_negatives: 803.0000 - false_positives: 9280.0000 - true_negatives: 24164.0000 - true_positives: 2344.0000 - val_loss: 0.5421 - val_auc: 0.8134 - val_false_negatives: 240.0000 - val_false_positives: 2002.0000 - val_true_negatives: 6363.0000 - val_true_positives: 547.0000\n"
          ]
        },
        {
          "name": "stderr",
          "output_type": "stream",
          "text": [
            "/opt/conda/lib/python3.7/site-packages/keras/utils/generic_utils.py:497: CustomMaskWarning: Custom mask layers require a config and must override get_config. When loading, the custom mask layer must be passed to the custom_objects argument.\n",
            "  category=CustomMaskWarning)\n"
          ]
        },
        {
          "name": "stdout",
          "output_type": "stream",
          "text": [
            "Epoch 2/29\n",
            "1144/1144 [==============================] - 833s 727ms/step - loss: 0.5048 - auc: 0.8606 - false_negatives: 648.0000 - false_positives: 7998.0000 - true_negatives: 25449.0000 - true_positives: 2496.0000 - val_loss: 0.6038 - val_auc: 0.8613 - val_false_negatives: 124.0000 - val_false_positives: 2368.0000 - val_true_negatives: 5996.0000 - val_true_positives: 664.0000\n",
            "Epoch 3/29\n",
            "1144/1144 [==============================] - 831s 726ms/step - loss: 0.4570 - auc: 0.8798 - false_negatives: 587.0000 - false_positives: 7492.0000 - true_negatives: 25952.0000 - true_positives: 2560.0000 - val_loss: 0.4938 - val_auc: 0.8755 - val_false_negatives: 139.0000 - val_false_positives: 2002.0000 - val_true_negatives: 6362.0000 - val_true_positives: 649.0000\n",
            "Epoch 4/29\n",
            "1144/1144 [==============================] - 838s 732ms/step - loss: 0.4154 - auc: 0.8965 - false_negatives: 542.0000 - false_positives: 7084.0000 - true_negatives: 26358.0000 - true_positives: 2607.0000 - val_loss: 0.4536 - val_auc: 0.8866 - val_false_negatives: 135.0000 - val_false_positives: 1875.0000 - val_true_negatives: 6490.0000 - val_true_positives: 652.0000\n",
            "Epoch 5/29\n",
            "1144/1144 [==============================] - 837s 731ms/step - loss: 0.3858 - auc: 0.9082 - false_negatives: 499.0000 - false_positives: 6574.0000 - true_negatives: 26873.0000 - true_positives: 2645.0000 - val_loss: 0.5013 - val_auc: 0.8942 - val_false_negatives: 97.0000 - val_false_positives: 2099.0000 - val_true_negatives: 6266.0000 - val_true_positives: 690.0000\n",
            "Epoch 6/29\n",
            "1144/1144 [==============================] - 847s 740ms/step - loss: 0.3734 - auc: 0.9126 - false_negatives: 493.0000 - false_positives: 6553.0000 - true_negatives: 26891.0000 - true_positives: 2654.0000 - val_loss: 0.4524 - val_auc: 0.8964 - val_false_negatives: 118.0000 - val_false_positives: 1889.0000 - val_true_negatives: 6475.0000 - val_true_positives: 670.0000\n",
            "Epoch 7/29\n",
            "1144/1144 [==============================] - 849s 742ms/step - loss: 0.3528 - auc: 0.9223 - false_negatives: 438.0000 - false_positives: 6071.0000 - true_negatives: 27372.0000 - true_positives: 2710.0000 - val_loss: 0.4375 - val_auc: 0.9046 - val_false_negatives: 112.0000 - val_false_positives: 1758.0000 - val_true_negatives: 6606.0000 - val_true_positives: 676.0000\n",
            "Epoch 8/29\n",
            "1144/1144 [==============================] - 843s 736ms/step - loss: 0.3401 - auc: 0.9272 - false_negatives: 435.0000 - false_positives: 5918.0000 - true_negatives: 27524.0000 - true_positives: 2714.0000 - val_loss: 0.4102 - val_auc: 0.9040 - val_false_negatives: 134.0000 - val_false_positives: 1626.0000 - val_true_negatives: 6738.0000 - val_true_positives: 654.0000\n",
            "Epoch 9/29\n",
            "1144/1144 [==============================] - 842s 736ms/step - loss: 0.3333 - auc: 0.9304 - false_negatives: 403.0000 - false_positives: 5684.0000 - true_negatives: 27760.0000 - true_positives: 2744.0000 - val_loss: 0.3761 - val_auc: 0.9079 - val_false_negatives: 141.0000 - val_false_positives: 1451.0000 - val_true_negatives: 6914.0000 - val_true_positives: 646.0000\n",
            "Epoch 10/29\n",
            "1144/1144 [==============================] - 854s 746ms/step - loss: 0.3174 - auc: 0.9363 - false_negatives: 381.0000 - false_positives: 5442.0000 - true_negatives: 28001.0000 - true_positives: 2767.0000 - val_loss: 0.3898 - val_auc: 0.9127 - val_false_negatives: 132.0000 - val_false_positives: 1535.0000 - val_true_negatives: 6829.0000 - val_true_positives: 656.0000\n",
            "Epoch 11/29\n",
            "1144/1144 [==============================] - 851s 744ms/step - loss: 0.3072 - auc: 0.9405 - false_negatives: 375.0000 - false_positives: 5273.0000 - true_negatives: 28171.0000 - true_positives: 2772.0000 - val_loss: 0.3770 - val_auc: 0.9125 - val_false_negatives: 131.0000 - val_false_positives: 1464.0000 - val_true_negatives: 6900.0000 - val_true_positives: 657.0000\n",
            "Epoch 12/29\n",
            "1144/1144 [==============================] - 847s 740ms/step - loss: 0.2964 - auc: 0.9447 - false_negatives: 337.0000 - false_positives: 5078.0000 - true_negatives: 28366.0000 - true_positives: 2810.0000 - val_loss: 0.3854 - val_auc: 0.9140 - val_false_negatives: 120.0000 - val_false_positives: 1530.0000 - val_true_negatives: 6834.0000 - val_true_positives: 668.0000\n",
            "Epoch 13/29\n",
            "1144/1144 [==============================] - 853s 746ms/step - loss: 0.2861 - auc: 0.9484 - false_negatives: 331.0000 - false_positives: 4890.0000 - true_negatives: 28552.0000 - true_positives: 2818.0000 - val_loss: 0.4107 - val_auc: 0.9184 - val_false_negatives: 107.0000 - val_false_positives: 1585.0000 - val_true_negatives: 6780.0000 - val_true_positives: 680.0000\n",
            "Epoch 14/29\n",
            "1144/1144 [==============================] - 847s 741ms/step - loss: 0.2718 - auc: 0.9533 - false_negatives: 299.0000 - false_positives: 4597.0000 - true_negatives: 28849.0000 - true_positives: 2846.0000 - val_loss: 0.4386 - val_auc: 0.9150 - val_false_negatives: 118.0000 - val_false_positives: 1668.0000 - val_true_negatives: 6697.0000 - val_true_positives: 669.0000\n",
            "Epoch 15/29\n",
            "1144/1144 [==============================] - 850s 743ms/step - loss: 0.2712 - auc: 0.9534 - false_negatives: 303.0000 - false_positives: 4598.0000 - true_negatives: 28847.0000 - true_positives: 2843.0000 - val_loss: 0.3928 - val_auc: 0.9169 - val_false_negatives: 129.0000 - val_false_positives: 1499.0000 - val_true_negatives: 6865.0000 - val_true_positives: 659.0000\n",
            "Epoch 16/29\n",
            "1144/1144 [==============================] - 851s 743ms/step - loss: 0.2550 - auc: 0.9582 - false_negatives: 276.0000 - false_positives: 4430.0000 - true_negatives: 29013.0000 - true_positives: 2872.0000 - val_loss: 0.3860 - val_auc: 0.9155 - val_false_negatives: 128.0000 - val_false_positives: 1465.0000 - val_true_negatives: 6900.0000 - val_true_positives: 659.0000\n",
            "Epoch 17/29\n",
            "1144/1144 [==============================] - 852s 745ms/step - loss: 0.2448 - auc: 0.9614 - false_negatives: 270.0000 - false_positives: 4154.0000 - true_negatives: 29290.0000 - true_positives: 2877.0000 - val_loss: 0.3593 - val_auc: 0.9176 - val_false_negatives: 142.0000 - val_false_positives: 1283.0000 - val_true_negatives: 7082.0000 - val_true_positives: 645.0000\n",
            "Epoch 18/29\n",
            "1144/1144 [==============================] - 857s 749ms/step - loss: 0.2384 - auc: 0.9634 - false_negatives: 255.0000 - false_positives: 4076.0000 - true_negatives: 29367.0000 - true_positives: 2893.0000 - val_loss: 0.4192 - val_auc: 0.9135 - val_false_negatives: 118.0000 - val_false_positives: 1548.0000 - val_true_negatives: 6816.0000 - val_true_positives: 670.0000\n",
            "Epoch 19/29\n",
            "1144/1144 [==============================] - 858s 750ms/step - loss: 0.2298 - auc: 0.9658 - false_negatives: 239.0000 - false_positives: 3906.0000 - true_negatives: 29537.0000 - true_positives: 2909.0000 - val_loss: 0.4165 - val_auc: 0.9188 - val_false_negatives: 118.0000 - val_false_positives: 1553.0000 - val_true_negatives: 6811.0000 - val_true_positives: 670.0000\n",
            "Epoch 20/29\n",
            "1144/1144 [==============================] - 866s 757ms/step - loss: 0.2228 - auc: 0.9678 - false_negatives: 219.0000 - false_positives: 3766.0000 - true_negatives: 29680.0000 - true_positives: 2926.0000 - val_loss: 0.3815 - val_auc: 0.9172 - val_false_negatives: 139.0000 - val_false_positives: 1376.0000 - val_true_negatives: 6990.0000 - val_true_positives: 647.0000\n",
            "Epoch 21/29\n",
            "1144/1144 [==============================] - 868s 758ms/step - loss: 0.2181 - auc: 0.9688 - false_negatives: 220.0000 - false_positives: 3773.0000 - true_negatives: 29671.0000 - true_positives: 2927.0000 - val_loss: 0.3481 - val_auc: 0.9200 - val_false_negatives: 138.0000 - val_false_positives: 1226.0000 - val_true_negatives: 7138.0000 - val_true_positives: 650.0000\n",
            "Epoch 22/29\n",
            "1144/1144 [==============================] - 863s 754ms/step - loss: 0.1972 - auc: 0.9741 - false_negatives: 195.0000 - false_positives: 3378.0000 - true_negatives: 30066.0000 - true_positives: 2952.0000 - val_loss: 0.4198 - val_auc: 0.9195 - val_false_negatives: 113.0000 - val_false_positives: 1441.0000 - val_true_negatives: 6923.0000 - val_true_positives: 675.0000\n",
            "Epoch 23/29\n",
            "1144/1144 [==============================] - 867s 758ms/step - loss: 0.1995 - auc: 0.9742 - false_negatives: 197.0000 - false_positives: 3456.0000 - true_negatives: 29986.0000 - true_positives: 2952.0000 - val_loss: 0.4044 - val_auc: 0.9148 - val_false_negatives: 133.0000 - val_false_positives: 1376.0000 - val_true_negatives: 6989.0000 - val_true_positives: 654.0000\n",
            "Epoch 24/29\n",
            "1144/1144 [==============================] - 866s 757ms/step - loss: 0.1938 - auc: 0.9754 - false_negatives: 181.0000 - false_positives: 3267.0000 - true_negatives: 30176.0000 - true_positives: 2967.0000 - val_loss: 0.3800 - val_auc: 0.9225 - val_false_negatives: 129.0000 - val_false_positives: 1306.0000 - val_true_negatives: 7058.0000 - val_true_positives: 659.0000\n",
            "Epoch 25/29\n",
            "1144/1144 [==============================] - 874s 764ms/step - loss: 0.1877 - auc: 0.9769 - false_negatives: 167.0000 - false_positives: 3089.0000 - true_negatives: 30353.0000 - true_positives: 2982.0000 - val_loss: 0.3529 - val_auc: 0.9227 - val_false_negatives: 147.0000 - val_false_positives: 1193.0000 - val_true_negatives: 7171.0000 - val_true_positives: 641.0000\n",
            "Epoch 26/29\n",
            "1144/1144 [==============================] - 875s 764ms/step - loss: 0.1801 - auc: 0.9785 - false_negatives: 173.0000 - false_positives: 3008.0000 - true_negatives: 30434.0000 - true_positives: 2976.0000 - val_loss: 0.3323 - val_auc: 0.9212 - val_false_negatives: 157.0000 - val_false_positives: 1091.0000 - val_true_negatives: 7273.0000 - val_true_positives: 631.0000\n",
            "Epoch 27/29\n",
            "1144/1144 [==============================] - 871s 762ms/step - loss: 0.1755 - auc: 0.9794 - false_negatives: 167.0000 - false_positives: 2924.0000 - true_negatives: 30522.0000 - true_positives: 2978.0000 - val_loss: 0.3439 - val_auc: 0.9189 - val_false_negatives: 145.0000 - val_false_positives: 1082.0000 - val_true_negatives: 7282.0000 - val_true_positives: 643.0000\n",
            "Epoch 28/29\n",
            "1144/1144 [==============================] - 874s 764ms/step - loss: 0.1701 - auc: 0.9808 - false_negatives: 154.0000 - false_positives: 2797.0000 - true_negatives: 30647.0000 - true_positives: 2993.0000 - val_loss: 0.3103 - val_auc: 0.9183 - val_false_negatives: 178.0000 - val_false_positives: 965.0000 - val_true_negatives: 7399.0000 - val_true_positives: 610.0000\n",
            "Epoch 29/29\n",
            "1144/1144 [==============================] - 877s 767ms/step - loss: 0.1653 - auc: 0.9820 - false_negatives: 153.0000 - false_positives: 2745.0000 - true_negatives: 30699.0000 - true_positives: 2994.0000 - val_loss: 0.3164 - val_auc: 0.9202 - val_false_negatives: 176.0000 - val_false_positives: 957.0000 - val_true_negatives: 7407.0000 - val_true_positives: 612.0000\n"
          ]
        }
      ],
      "source": [
        "epochs=1 if FAST_RUN else 29\n",
        "history = model.fit(\n",
        "    train_generator, \n",
        "    epochs=epochs,\n",
        "    validation_data=validation_generator,\n",
        "    validation_steps=total_validate//batch_size,\n",
        "    steps_per_epoch=total_train//batch_size,\n",
        "    callbacks=callbacks,\n",
        "    class_weight=class_weight\n",
        ")"
      ]
    },
    {
      "cell_type": "code",
      "execution_count": null,
      "id": "be6f8c06",
      "metadata": {
        "execution": {
          "iopub.execute_input": "2022-07-16T07:59:02.439191Z",
          "iopub.status.busy": "2022-07-16T07:59:02.437325Z",
          "iopub.status.idle": "2022-07-16T07:59:03.127724Z",
          "shell.execute_reply": "2022-07-16T07:59:03.126566Z"
        },
        "papermill": {
          "duration": 3.308746,
          "end_time": "2022-07-16T07:59:03.130011",
          "exception": false,
          "start_time": "2022-07-16T07:58:59.821265",
          "status": "completed"
        },
        "tags": [],
        "id": "be6f8c06",
        "outputId": "a7ca7e05-2fa2-4b67-b91f-d90adaa8ef07"
      },
      "outputs": [
        {
          "data": {
            "image/png": "[encoded data removed]",
            "text/plain": [
              "<Figure size 432x288 with 1 Axes>"
            ]
          },
          "metadata": {
            "needs_background": "light"
          },
          "output_type": "display_data"
        },
        {
          "data": {
            "image/png": "[encoded data removed]",
            "text/plain": [
              "<Figure size 432x288 with 1 Axes>"
            ]
          },
          "metadata": {
            "needs_background": "light"
          },
          "output_type": "display_data"
        },
        {
          "data": {
            "image/png": "[encoded data removed]",
            "text/plain": [
              "<Figure size 432x288 with 1 Axes>"
            ]
          },
          "metadata": {
            "needs_background": "light"
          },
          "output_type": "display_data"
        }
      ],
      "source": [
        "keys = list(model.history.history.keys())\n",
        "#accuracy\n",
        "plt.plot(model.history.history[keys[1]])\n",
        "plt.plot(model.history.history[keys[4]])\n",
        "plt.title('model accuracy')\n",
        "plt.ylabel('accuracy')\n",
        "plt.xlabel('epoch')\n",
        "plt.legend(['train', 'val'], loc='upper left')\n",
        "plt.show()\n",
        "# loss\n",
        "plt.plot(model.history.history[keys[0]])\n",
        "plt.plot(model.history.history[keys[3]])\n",
        "plt.title('model loss')\n",
        "plt.ylabel('loss')\n",
        "plt.xlabel('epoch')\n",
        "plt.legend(['train', 'val'], loc='upper left')\n",
        "plt.show()\n",
        "# False Negative\n",
        "plt.plot(model.history.history[keys[2]])\n",
        "plt.plot(model.history.history[keys[5]])\n",
        "plt.title('False Negative values')\n",
        "plt.ylabel('False Negatives')\n",
        "plt.xlabel('epoch')\n",
        "plt.legend(['train', 'val'], loc='upper left')\n",
        "plt.show()"
      ]
    },
    {
      "cell_type": "code",
      "execution_count": null,
      "id": "16ae76f3",
      "metadata": {
        "execution": {
          "iopub.execute_input": "2022-07-16T07:59:08.377224Z",
          "iopub.status.busy": "2022-07-16T07:59:08.376813Z",
          "iopub.status.idle": "2022-07-16T08:20:10.803897Z",
          "shell.execute_reply": "2022-07-16T08:20:10.802767Z"
        },
        "papermill": {
          "duration": 1265.053174,
          "end_time": "2022-07-16T08:20:10.806851",
          "exception": false,
          "start_time": "2022-07-16T07:59:05.753677",
          "status": "completed"
        },
        "tags": [],
        "id": "16ae76f3"
      },
      "outputs": [],
      "source": [
        "from PIL import Image\n",
        "from numpy import asarray\n",
        "def standardize(img,mean):\n",
        "    std = 55.30462222768374\n",
        "    img = (img - mean) / std\n",
        "    return img\n",
        "target = []\n",
        "for img in test_df['image_name']:\n",
        "    r_channel = standardize(asarray(Image.open('../input/melanoma-merged-external-data-512x512-jpeg/512x512-dataset-melanoma/512x512-dataset-melanoma/'+img).resize((224,224)))[:,:,0], mean[0])\n",
        "    g_channel = standardize(asarray(Image.open('../input/melanoma-merged-external-data-512x512-jpeg/512x512-dataset-melanoma/512x512-dataset-melanoma/'+img).resize((224,224)))[:,:,1], mean[1])\n",
        "    b_channel = standardize(asarray(Image.open('../input/melanoma-merged-external-data-512x512-jpeg/512x512-dataset-melanoma/512x512-dataset-melanoma/'+img).resize((224,224)))[:,:,2], mean[2])\n",
        "    prediction = model.predict(np.expand_dims(np.array(np.stack([r_channel, g_channel, b_channel], axis=-1)),0),verbose=0)\n",
        "    target.append(prediction[0][0])"
      ]
    },
    {
      "cell_type": "code",
      "execution_count": null,
      "id": "ec04f646",
      "metadata": {
        "execution": {
          "iopub.execute_input": "2022-07-16T08:20:16.286952Z",
          "iopub.status.busy": "2022-07-16T08:20:16.285945Z",
          "iopub.status.idle": "2022-07-16T08:20:16.306651Z",
          "shell.execute_reply": "2022-07-16T08:20:16.305518Z"
        },
        "papermill": {
          "duration": 2.98863,
          "end_time": "2022-07-16T08:20:16.309566",
          "exception": false,
          "start_time": "2022-07-16T08:20:13.320936",
          "status": "completed"
        },
        "tags": [],
        "id": "ec04f646",
        "outputId": "6766e6f9-c963-45f6-d3ff-bd510037f473"
      },
      "outputs": [
        {
          "data": {
            "text/plain": [
              "0.679959652693745"
            ]
          },
          "execution_count": 19,
          "metadata": {},
          "output_type": "execute_result"
        }
      ],
      "source": [
        "from sklearn.metrics import roc_auc_score\n",
        "auc = roc_auc_score(test_df['target'],target, multi_class=\"ovr\",average='weighted')\n",
        "auc"
      ]
    },
    {
      "cell_type": "code",
      "execution_count": null,
      "id": "cf72c337",
      "metadata": {
        "execution": {
          "iopub.execute_input": "2022-07-16T08:20:21.445272Z",
          "iopub.status.busy": "2022-07-16T08:20:21.444753Z",
          "iopub.status.idle": "2022-07-16T08:20:22.249498Z",
          "shell.execute_reply": "2022-07-16T08:20:22.248440Z"
        },
        "papermill": {
          "duration": 3.305698,
          "end_time": "2022-07-16T08:20:22.251879",
          "exception": false,
          "start_time": "2022-07-16T08:20:18.946181",
          "status": "completed"
        },
        "tags": [],
        "id": "cf72c337"
      },
      "outputs": [],
      "source": [
        "test_filenames = os.listdir(\"../input/melanoma-merged-external-data-512x512-jpeg/512x512-test/512x512-test\")\n",
        "test_dataFrame = pd.DataFrame(test_filenames)\n",
        "test_dataFrame['image_name'] = pd.DataFrame(test_filenames)"
      ]
    },
    {
      "cell_type": "code",
      "execution_count": null,
      "id": "ab23fe7e",
      "metadata": {
        "execution": {
          "iopub.execute_input": "2022-07-16T08:20:27.879898Z",
          "iopub.status.busy": "2022-07-16T08:20:27.879492Z",
          "iopub.status.idle": "2022-07-16T08:40:57.266370Z",
          "shell.execute_reply": "2022-07-16T08:40:57.265256Z"
        },
        "papermill": {
          "duration": 1232.022012,
          "end_time": "2022-07-16T08:40:57.269183",
          "exception": false,
          "start_time": "2022-07-16T08:20:25.247171",
          "status": "completed"
        },
        "tags": [],
        "id": "ab23fe7e"
      },
      "outputs": [],
      "source": [
        "from PIL import Image\n",
        "from numpy import asarray\n",
        "def standardize(img,mean):\n",
        "    std = 55.30462222768374\n",
        "    img = (img - mean) / std\n",
        "    return img\n",
        "target = []\n",
        "for img in test_filenames:\n",
        "    r_channel = standardize(asarray(Image.open('../input/melanoma-merged-external-data-512x512-jpeg/512x512-test/512x512-test/'+img).resize((224,224)))[:,:,0], mean[0])\n",
        "    g_channel = standardize(asarray(Image.open('../input/melanoma-merged-external-data-512x512-jpeg/512x512-test/512x512-test/'+img).resize((224,224)))[:,:,1], mean[1])\n",
        "    b_channel = standardize(asarray(Image.open('../input/melanoma-merged-external-data-512x512-jpeg/512x512-test/512x512-test/'+img).resize((224,224)))[:,:,2], mean[2])\n",
        "    prediction = model.predict(np.expand_dims(np.array(np.stack([r_channel, g_channel, b_channel], axis=-1)),0),verbose=0)\n",
        "    target.append(prediction[0][0])"
      ]
    },
    {
      "cell_type": "code",
      "execution_count": null,
      "id": "fbaafa51",
      "metadata": {
        "execution": {
          "iopub.execute_input": "2022-07-16T08:41:02.498983Z",
          "iopub.status.busy": "2022-07-16T08:41:02.498572Z",
          "iopub.status.idle": "2022-07-16T08:41:02.595239Z",
          "shell.execute_reply": "2022-07-16T08:41:02.594123Z"
        },
        "papermill": {
          "duration": 2.786049,
          "end_time": "2022-07-16T08:41:02.598006",
          "exception": false,
          "start_time": "2022-07-16T08:40:59.811957",
          "status": "completed"
        },
        "tags": [],
        "id": "fbaafa51",
        "outputId": "b3c266cf-4fa5-49be-e971-7847ce00007d"
      },
      "outputs": [
        {
          "data": {
            "text/html": [
              "<div>\n",
              "<style scoped>\n",
              "    .dataframe tbody tr th:only-of-type {\n",
              "        vertical-align: middle;\n",
              "    }\n",
              "\n",
              "    .dataframe tbody tr th {\n",
              "        vertical-align: top;\n",
              "    }\n",
              "\n",
              "    .dataframe thead th {\n",
              "        text-align: right;\n",
              "    }\n",
              "</style>\n",
              "<table border=\"1\" class=\"dataframe\">\n",
              "  <thead>\n",
              "    <tr style=\"text-align: right;\">\n",
              "      <th></th>\n",
              "      <th>image_name</th>\n",
              "      <th>target</th>\n",
              "    </tr>\n",
              "  </thead>\n",
              "  <tbody>\n",
              "    <tr>\n",
              "      <th>0</th>\n",
              "      <td>ISIC_2417927</td>\n",
              "      <td>0.000928</td>\n",
              "    </tr>\n",
              "    <tr>\n",
              "      <th>1</th>\n",
              "      <td>ISIC_0546632</td>\n",
              "      <td>0.001095</td>\n",
              "    </tr>\n",
              "    <tr>\n",
              "      <th>2</th>\n",
              "      <td>ISIC_2227618</td>\n",
              "      <td>0.000508</td>\n",
              "    </tr>\n",
              "    <tr>\n",
              "      <th>3</th>\n",
              "      <td>ISIC_7969975</td>\n",
              "      <td>0.000369</td>\n",
              "    </tr>\n",
              "    <tr>\n",
              "      <th>4</th>\n",
              "      <td>ISIC_3356592</td>\n",
              "      <td>0.010799</td>\n",
              "    </tr>\n",
              "  </tbody>\n",
              "</table>\n",
              "</div>"
            ],
            "text/plain": [
              "     image_name    target\n",
              "0  ISIC_2417927  0.000928\n",
              "1  ISIC_0546632  0.001095\n",
              "2  ISIC_2227618  0.000508\n",
              "3  ISIC_7969975  0.000369\n",
              "4  ISIC_3356592  0.010799"
            ]
          },
          "execution_count": 22,
          "metadata": {},
          "output_type": "execute_result"
        }
      ],
      "source": [
        "test_df = pd.DataFrame({\n",
        "    'image_name': test_filenames\n",
        "})\n",
        "test_df['target'] = pd.DataFrame(target)\n",
        "submission_df = test_df.copy()\n",
        "submission_df['image_name'] = submission_df[\"image_name\"].str.split('.').str[0]\n",
        "submission_df.to_csv('sub_D9v14.csv', index=False)\n",
        "\n",
        "submission_df.head()"
      ]
    },
    {
      "cell_type": "code",
      "execution_count": null,
      "id": "0e1454a9",
      "metadata": {
        "papermill": {
          "duration": 2.835309,
          "end_time": "2022-07-16T08:41:08.116880",
          "exception": false,
          "start_time": "2022-07-16T08:41:05.281571",
          "status": "completed"
        },
        "tags": [],
        "id": "0e1454a9"
      },
      "outputs": [],
      "source": []
    }
  ],
  "metadata": {
    "kernelspec": {
      "display_name": "Python 3",
      "language": "python",
      "name": "python3"
    },
    "language_info": {
      "codemirror_mode": {
        "name": "ipython",
        "version": 3
      },
      "file_extension": ".py",
      "mimetype": "text/x-python",
      "name": "python",
      "nbconvert_exporter": "python",
      "pygments_lexer": "ipython3",
      "version": "3.7.12"
    },
    "papermill": {
      "default_parameters": {},
      "duration": 28407.321225,
      "end_time": "2022-07-16T08:41:14.242744",
      "environment_variables": {},
      "exception": null,
      "input_path": "__notebook__.ipynb",
      "output_path": "__notebook__.ipynb",
      "parameters": {},
      "start_time": "2022-07-16T00:47:46.921519",
      "version": "2.3.4"
    },
    "colab": {
      "provenance": []
    }
  },
  "nbformat": 4,
  "nbformat_minor": 5
}